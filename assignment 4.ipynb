{
 "cells": [
  {
   "cell_type": "code",
   "execution_count": 1,
   "id": "ec86267c-46e9-4fb6-b471-10fc9634872b",
   "metadata": {},
   "outputs": [],
   "source": [
    "t=(1,5,9,3,4,2)\n",
    "a=lambda t:t.sort"
   ]
  },
  {
   "cell_type": "code",
   "execution_count": 10,
   "id": "ea79f12a-2537-4786-9226-948105587b9a",
   "metadata": {},
   "outputs": [
    {
     "data": {
      "text/plain": [
       "<function __main__.<lambda>(t)>"
      ]
     },
     "execution_count": 10,
     "metadata": {},
     "output_type": "execute_result"
    }
   ],
   "source": [
    "a"
   ]
  },
  {
   "cell_type": "code",
   "execution_count": 13,
   "id": "2e130a7f-f296-4d8a-aa27-7208dd826c00",
   "metadata": {},
   "outputs": [
    {
     "data": {
      "text/plain": [
       "[1, 4, 9, 16, 25, 36, 49, 64, 81, 100]"
      ]
     },
     "execution_count": 13,
     "metadata": {},
     "output_type": "execute_result"
    }
   ],
   "source": [
    "l=[1,2,3,4,5,6,7,8,9,10]\n",
    "list(map(lambda x: x**2,l))"
   ]
  },
  {
   "cell_type": "code",
   "execution_count": 21,
   "id": "c5378d61-75d3-4824-8c82-08b60f6cce3b",
   "metadata": {},
   "outputs": [
    {
     "data": {
      "text/plain": [
       "['', '', '', '', '', '', '', '', '', '']"
      ]
     },
     "execution_count": 21,
     "metadata": {},
     "output_type": "execute_result"
    }
   ],
   "source": [
    "list(map(lambda x:x,l))"
   ]
  },
  {
   "cell_type": "code",
   "execution_count": 25,
   "id": "285405ba-4c57-4814-bfda-82cd6dc48470",
   "metadata": {},
   "outputs": [
    {
     "data": {
      "text/plain": [
       "15511210043330985984000000"
      ]
     },
     "execution_count": 25,
     "metadata": {},
     "output_type": "execute_result"
    }
   ],
   "source": [
    "from functools import reduce\n",
    "\n",
    "l2=[1,2,3,4,5,6,7,8,9,10,11,12,13,14,15,16,17,18,19,20,21,22,23,24,25]\n",
    "reduce(lambda x,y:x*y,l2)"
   ]
  },
  {
   "cell_type": "code",
   "execution_count": 26,
   "id": "013cc99e-b374-4d0d-bc1f-efb5f0292ee5",
   "metadata": {},
   "outputs": [],
   "source": [
    "l3=[2, 3, 6, 9, 27, 60, 90, 120, 55, 46]"
   ]
  },
  {
   "cell_type": "code",
   "execution_count": 29,
   "id": "13952e97-066a-49a8-b6aa-8490e4bf719c",
   "metadata": {},
   "outputs": [
    {
     "data": {
      "text/plain": [
       "[6, 60, 90, 120]"
      ]
     },
     "execution_count": 29,
     "metadata": {},
     "output_type": "execute_result"
    }
   ],
   "source": [
    "list(filter(lambda x:x%2==0 and x%3==0,l3))"
   ]
  },
  {
   "cell_type": "code",
   "execution_count": 31,
   "id": "ebd71381-8a22-411b-beb5-253781a08513",
   "metadata": {},
   "outputs": [
    {
     "ename": "SyntaxError",
     "evalue": "incomplete input (1598708423.py, line 2)",
     "output_type": "error",
     "traceback": [
      "\u001b[0;36m  Cell \u001b[0;32mIn[31], line 2\u001b[0;36m\u001b[0m\n\u001b[0;31m    list(filter(lambda x:x==\"\".join(reversed(x),l4))\u001b[0m\n\u001b[0m                                                    ^\u001b[0m\n\u001b[0;31mSyntaxError\u001b[0m\u001b[0;31m:\u001b[0m incomplete input\n"
     ]
    }
   ],
   "source": [
    "l4=['python', 'php', 'aba', 'radar', 'level']\n",
    "list(filter(lambda x:x==\"\".join(reversed(x),l4))"
   ]
  },
  {
   "cell_type": "code",
   "execution_count": null,
   "id": "44e08786-fef2-466f-9b44-8f5faeca65ec",
   "metadata": {},
   "outputs": [],
   "source": []
  }
 ],
 "metadata": {
  "kernelspec": {
   "display_name": "Python 3 (ipykernel)",
   "language": "python",
   "name": "python3"
  },
  "language_info": {
   "codemirror_mode": {
    "name": "ipython",
    "version": 3
   },
   "file_extension": ".py",
   "mimetype": "text/x-python",
   "name": "python",
   "nbconvert_exporter": "python",
   "pygments_lexer": "ipython3",
   "version": "3.10.8"
  }
 },
 "nbformat": 4,
 "nbformat_minor": 5
}
